{
  "nbformat": 4,
  "nbformat_minor": 0,
  "metadata": {
    "colab": {
      "provenance": [],
      "mount_file_id": "1JHR7FY3ndgKkxUzTpu5IwWi7oGVTQfOU",
      "authorship_tag": "ABX9TyO/sfig67+0BIGrbQEf9WXn",
      "include_colab_link": true
    },
    "kernelspec": {
      "name": "python3",
      "display_name": "Python 3"
    },
    "language_info": {
      "name": "python"
    }
  },
  "cells": [
    {
      "cell_type": "markdown",
      "metadata": {
        "id": "view-in-github",
        "colab_type": "text"
      },
      "source": [
        "<a href=\"https://colab.research.google.com/github/pdoren/analisis-estadistico-con-Python-G105/blob/main/Desafio_Estad%C3%ADstica_descriptiva_y_probabilidades_Parte_2.ipynb\" target=\"_parent\"><img src=\"https://colab.research.google.com/assets/colab-badge.svg\" alt=\"Open In Colab\"/></a>"
      ]
    },
    {
      "cell_type": "markdown",
      "source": [
        "# Desafio - Estadística Descripctiva y Probabilidad (Parte 2)\n",
        "\n",
        "**Nombre**: Pablo Saavedra Doren <br/>\n",
        "**Curso**: Análisis estadístico con Python (G105)"
      ],
      "metadata": {
        "id": "oh9-4TLQrcoe"
      }
    },
    {
      "cell_type": "code",
      "execution_count": 1,
      "metadata": {
        "id": "bWR46isQqYf7"
      },
      "outputs": [],
      "source": [
        "import pandas as pd\n",
        "import numpy as np\n"
      ]
    },
    {
      "cell_type": "markdown",
      "source": [
        "> Carga de datos:"
      ],
      "metadata": {
        "id": "oXjgk-RUsANh"
      }
    },
    {
      "cell_type": "code",
      "source": [
        "df = pd.read_csv('/content/drive/MyDrive/worldcup2014.csv')\n",
        "\n",
        "df.info()"
      ],
      "metadata": {
        "colab": {
          "base_uri": "https://localhost:8080/"
        },
        "id": "N6JzZQ9NrcY1",
        "outputId": "188f4d65-d485-4f98-86d0-3e3a2380b9e7"
      },
      "execution_count": 2,
      "outputs": [
        {
          "output_type": "stream",
          "name": "stdout",
          "text": [
            "<class 'pandas.core.frame.DataFrame'>\n",
            "RangeIndex: 32 entries, 0 to 31\n",
            "Data columns (total 13 columns):\n",
            " #   Column            Non-Null Count  Dtype \n",
            "---  ------            --------------  ----- \n",
            " 0   team              32 non-null     object\n",
            " 1   continent         32 non-null     object\n",
            " 2   group             32 non-null     object\n",
            " 3   group_pos         32 non-null     int64 \n",
            " 4   cantidad_juegos   32 non-null     int64 \n",
            " 5   juegos_ganados    32 non-null     int64 \n",
            " 6   juegos_empatados  32 non-null     int64 \n",
            " 7   juegos_perdidos   32 non-null     int64 \n",
            " 8   goles_favor       32 non-null     int64 \n",
            " 9   goles_contra      32 non-null     int64 \n",
            " 10  goles_diferencia  32 non-null     object\n",
            " 11  puntos            32 non-null     int64 \n",
            " 12  clasificado       32 non-null     int64 \n",
            "dtypes: int64(9), object(4)\n",
            "memory usage: 3.4+ KB\n"
          ]
        }
      ]
    },
    {
      "cell_type": "markdown",
      "source": [
        "## 1. Calcular Probabilidades (CON CONTEO)\n",
        "\n",
        "Considerando el experimento de seleccionar un país participante al azar, se pide determinar las probabilidades de los siguientes sucesos:\n",
        "\n",
        "  1. pertenecer a África\n",
        "  2. pertenecer a Asia\n",
        "  3. pertenecer a Europa\n",
        "  4. pertenecer a Norteamérica\n",
        "  5. pertenecer a Sudamérica\n",
        "  6. clasificar a segunda ronda\n",
        "  7. ganar al menos un partido\n",
        "  8. pertenecer a África y clasificar a segunda ronda\n",
        "  9. pertenecer a Europa y clasificar a segunda ronda\n",
        "  10. pertenecer a Asia y clasificar a segunda ronda\n",
        "  11. pertenecer a Sudamérica y clasificar a segunda ronda\n",
        "  12. pertenecer a Norteamérica y clasificar a segunda ronda\n",
        "  13. pertenecer a África o clasificar a segunda ronda\n",
        "  14. pertenecer a Europa o clasificar a segunda ronda\n",
        "  15. pertenecer a Asia o clasificar a segunda ronda\n",
        "  16. pertenecer a Sudamérica o clasificar a segunda ronda\n",
        "  17. pertenecer a Norteamérica o clasificar a segunda ronda\n",
        "  18. pertenecer a África y haber ganado al menos un partido\n",
        "  19. pertenecer a Europa y haber ganado al menos un partido\n",
        "  20. pertenecer a Asia y haber ganado al menos un partido\n",
        "  21. pertenecer a Sudamérica y haber ganado al menos un partido\n",
        "  22. pertenecer a Norteamérica y haber ganado al menos un partido\n",
        "  23. haberganadoalmenosunpartidoyclasificarasegundaronda"
      ],
      "metadata": {
        "id": "7AFq-2CMthyC"
      }
    },
    {
      "cell_type": "markdown",
      "source": [
        "> A continuación, se calculan las diferentes probabilidades y se guardan en una lista para se mostrados en orden:"
      ],
      "metadata": {
        "id": "DuquugSOvseN"
      }
    },
    {
      "cell_type": "code",
      "source": [
        "sucesos = list()\n",
        "\n",
        "t_total_paises = len(df) # Calcular el total de paises\n",
        "\n",
        "# ===================================================================================================\n",
        "# Probabilidad pertenencia a un continente\n",
        "# ===================================================================================================\n",
        "\n",
        "# Pertenecer a África\n",
        "t_africa = (df['continent'] == 'africa').sum() # conteo\n",
        "p_africa = t_africa / t_total_paises\n",
        "sucesos.append({\"suceso\": \"Pertenecer a África\", \"probabilidad\": p_africa, \"conteo\": t_africa})\n",
        "# Pertenecer a Asia\n",
        "t_asia = (df['continent'] == 'asia').sum() # conteo\n",
        "p_asia = t_asia / t_total_paises\n",
        "sucesos.append({\"suceso\": \"Pertenecer a Asia\", \"probabilidad\": p_asia, 'conteo': t_asia})\n",
        "# Pertenecer a Europa\n",
        "t_europe = (df['continent'] == 'europe').sum() # conteo\n",
        "p_europe = t_europe / t_total_paises\n",
        "sucesos.append({\"suceso\": \"Pertenecer a Europa\", \"probabilidad\": p_europe, 'conteo': t_europe})\n",
        "# Pertenecer a Norteamérica\n",
        "t_northamerica = (df['continent'] == 'northamerica').sum()\n",
        "p_northamerica = t_northamerica / t_total_paises\n",
        "sucesos.append({\"suceso\": \"Pertenecer a Norteamérica\", \"probabilidad\": p_northamerica, 'conteo': t_northamerica})\n",
        "# Pertenecer a Sudamérica\n",
        "t_southamerica = (df['continent'] == 'southamerica').sum()\n",
        "p_southamerica = t_southamerica / t_total_paises\n",
        "sucesos.append({\"suceso\": \"Pertenecer a Sudamérica\", \"probabilidad\": p_southamerica, 'conteo': t_southamerica})\n",
        "\n",
        "# ===================================================================================================\n",
        "# Filtro para conteo clasificación\n",
        "# ===================================================================================================\n",
        "\n",
        "# Clasificar a segunda ronda\n",
        "t_clas_segunda_ronda = (df['clasificado'] == 1).sum()\n",
        "p_clas_segunda_ronda = t_clas_segunda_ronda / t_total_paises\n",
        "sucesos.append({\"suceso\": \"Clasificar a segunda ronda\", \"probabilidad\": p_clas_segunda_ronda, 'conteo': t_clas_segunda_ronda})\n",
        "# Ganar al menos un partido\n",
        "t_gana_al_menos_1p = (df['juegos_ganados'] > 0).sum()\n",
        "p_gana_al_menos_1p = t_gana_al_menos_1p / t_total_paises\n",
        "sucesos.append({\"suceso\": \"Ganar al menos un partido\", \"probabilidad\": p_gana_al_menos_1p, 'conteo': t_gana_al_menos_1p})\n",
        "\n",
        "# Pertenecer a un continente y clasificar a segunda ronda\n",
        "\n",
        "t_africa_clas_segunda_ronda = ((df['continent'] == 'africa') & (df['clasificado'] == 1)).sum()\n",
        "p_africa_clas_segunda_ronda = t_africa_clas_segunda_ronda / t_total_paises\n",
        "sucesos.append({\"suceso\": \"Pertenecer a África y clasificar a segunda ronda\", \"probabilidad\": p_africa_clas_segunda_ronda, 'conteo': t_africa_clas_segunda_ronda})\n",
        "\n",
        "t_europe_clas_segunda_ronda = ((df['continent'] == 'europe') & (df['clasificado'] == 1)).sum()\n",
        "p_europe_clas_segunda_ronda = t_europe_clas_segunda_ronda / t_total_paises\n",
        "sucesos.append({\"suceso\": \"Pertenecer a Europa y clasificar a segunda ronda\", \"probabilidad\": p_europe_clas_segunda_ronda, 'conteo': t_europe_clas_segunda_ronda})\n",
        "\n",
        "t_asia_clas_segunda_ronda = ((df['continent'] == 'asia') & (df['clasificado'] == 1)).sum()\n",
        "p_asia_clas_segunda_ronda = t_asia_clas_segunda_ronda / t_total_paises\n",
        "sucesos.append({\"suceso\": \"Pertenecer a Asia y clasificar a segunda ronda\", \"probabilidad\": p_asia_clas_segunda_ronda, 'conteo': t_asia_clas_segunda_ronda})\n",
        "\n",
        "t_southamerica_clas_segunda_ronda = ((df['continent'] == 'southamerica') & (df['clasificado'] == 1)).sum()\n",
        "p_southamerica_clas_segunda_ronda = t_southamerica_clas_segunda_ronda / t_total_paises\n",
        "sucesos.append({\"suceso\": \"Pertenecer a Sudamérica y clasificar a segunda ronda\", \"probabilidad\": p_southamerica_clas_segunda_ronda, 'conteo': t_southamerica_clas_segunda_ronda})\n",
        "\n",
        "t_northamerica_clas_segunda_ronda = ((df['continent'] == 'northamerica') & (df['clasificado'] == 1)).sum()\n",
        "p_northamerica_clas_segunda_ronda = t_northamerica_clas_segunda_ronda / t_total_paises\n",
        "sucesos.append({\"suceso\": \"Pertenecer a Norteamérica y clasificar a segunda ronda\", \"probabilidad\": p_northamerica_clas_segunda_ronda, 'conteo': t_northamerica_clas_segunda_ronda})\n",
        "\n",
        "\n",
        "# Pertenecer a un continente o clasificar a segunda ronda\n",
        "t_africa_or_clas_segunda_ronda = ((df['continent'] == 'africa') | (df['clasificado'] == 1)).sum()\n",
        "p_africa_or_clas_segunda_ronda = t_africa_clas_segunda_ronda / t_total_paises\n",
        "sucesos.append({\"suceso\": \"Pertenecer a África o clasificar a segunda ronda\", \"probabilidad\": p_africa_or_clas_segunda_ronda, 'conteo': t_africa_or_clas_segunda_ronda})\n",
        "\n",
        "t_europe_or_clas_segunda_ronda = ((df['continent'] == 'europe') | (df['clasificado'] == 1)).sum()\n",
        "p_europe_or_clas_segunda_ronda = t_europe_or_clas_segunda_ronda / t_total_paises\n",
        "sucesos.append({\"suceso\": \"Pertenecer a Europa o clasificar a segunda ronda\", \"probabilidad\": p_europe_or_clas_segunda_ronda, 'conteo': t_europe_or_clas_segunda_ronda})\n",
        "\n",
        "t_asia_or_clas_segunda_ronda = ((df['continent'] == 'asia') | (df['clasificado'] == 1)).sum()\n",
        "p_asia_or_clas_segunda_ronda = t_asia_or_clas_segunda_ronda / t_total_paises\n",
        "sucesos.append({\"suceso\": \"Pertenecer a Asia o clasificar a segunda ronda\", \"probabilidad\": p_asia_or_clas_segunda_ronda, 'conteo': t_asia_or_clas_segunda_ronda})\n",
        "\n",
        "t_southamerica_or_clas_segunda_ronda = ((df['continent'] == 'southamerica') | (df['clasificado'] == 1)).sum()\n",
        "p_southamerica_or_clas_segunda_ronda = t_southamerica_or_clas_segunda_ronda / t_total_paises\n",
        "sucesos.append({\"suceso\": \"Pertenecer a Sudamérica o clasificar a segunda ronda\", \"probabilidad\": p_southamerica_or_clas_segunda_ronda, 'conteo': t_southamerica_or_clas_segunda_ronda})\n",
        "\n",
        "t_northamerica_or_clas_segunda_ronda = ((df['continent'] == 'northamerica') | (df['clasificado'] == 1)).sum()\n",
        "p_northamerica_or_clas_segunda_ronda = t_northamerica_or_clas_segunda_ronda / t_total_paises\n",
        "sucesos.append({\"suceso\": \"Pertenecer a Norteamérica o clasificar a segunda ronda\", \"probabilidad\": p_northamerica_or_clas_segunda_ronda, 'conteo': t_northamerica_or_clas_segunda_ronda})\n",
        "\n",
        "\n",
        "# Pertenecer a un continente y haber ganado al menos un partido\n",
        "t_africa_al_menos_1p = ((df['continent'] == 'africa') & (df['juegos_ganados'] > 0)).sum()\n",
        "p_africa_al_menos_1p = t_africa_al_menos_1p / t_total_paises\n",
        "sucesos.append({\"suceso\": \"Pertenecer a África y haber ganado al menos un partido\", \"probabilidad\": p_africa_al_menos_1p, 'conteo': t_africa_al_menos_1p})\n",
        "\n",
        "t_europe_al_menos_1p = ((df['continent'] == 'europe') & (df['juegos_ganados'] > 0)).sum()\n",
        "p_europe_al_menos_1p = t_europe_al_menos_1p / t_total_paises\n",
        "sucesos.append({\"suceso\": \"Pertenecer a Europa y haber ganado al menos un partido\", \"probabilidad\": p_europe_al_menos_1p, 'conteo': t_europe_al_menos_1p})\n",
        "\n",
        "t_asia_al_menos_1p = ((df['continent'] == 'asia') & (df['juegos_ganados'] > 0)).sum()\n",
        "p_asia_al_menos_1p = t_asia_al_menos_1p / t_total_paises\n",
        "sucesos.append({\"suceso\": \"Pertenecer a Asia y haber ganado al menos un partido\", \"probabilidad\": p_asia_al_menos_1p, 'conteo': t_asia_al_menos_1p})\n",
        "\n",
        "t_southamerica_al_menos_1p = ((df['continent'] == 'southamerica') & (df['juegos_ganados'] > 0)).sum()\n",
        "p_southamerica_al_menos_1p = t_southamerica_al_menos_1p / t_total_paises\n",
        "sucesos.append({\"suceso\": \"Pertenecer a Sudamérica y haber ganado al menos un partido\", \"probabilidad\": p_southamerica_al_menos_1p, 'conteo': t_southamerica_al_menos_1p})\n",
        "\n",
        "t_northamerica_al_menos_1p = ((df['continent'] == 'northamerica') & (df['juegos_ganados'] > 0)).sum()\n",
        "p_northamerica_al_menos_1p = t_northamerica_al_menos_1p / t_total_paises\n",
        "sucesos.append({\"suceso\": \"Pertenecer a Norteamérica y haber ganado al menos un partido\", \"probabilidad\": p_northamerica_al_menos_1p, 'conteo': t_northamerica_al_menos_1p})\n",
        "\n",
        "\n",
        "# Haber ganado al menos un partido y clasificar a segunda ronda\n",
        "t_al_menos_1p_clas_segunda_ronda = ((df['clasificado'] == 1) & (df['juegos_ganados'] > 0)).sum()\n",
        "p_al_menos_1p_clas_segunda_ronda = t_al_menos_1p_clas_segunda_ronda / t_total_paises\n",
        "sucesos.append({\"suceso\": \"Haber ganado al menos un partido y clasificar a segunda ronda\", \"probabilidad\": p_al_menos_1p_clas_segunda_ronda, 'conteo': t_al_menos_1p_clas_segunda_ronda})\n",
        "\n"
      ],
      "metadata": {
        "id": "Nq-o_kIHr_mu"
      },
      "execution_count": 3,
      "outputs": []
    },
    {
      "cell_type": "code",
      "source": [
        "df_sucesos = pd.DataFrame(sucesos)\n",
        "df_sucesos['probabilidad'] = round(df_sucesos['probabilidad'], 2)\n",
        "print(df_sucesos)"
      ],
      "metadata": {
        "colab": {
          "base_uri": "https://localhost:8080/"
        },
        "id": "Xd6P4xpn0l41",
        "outputId": "1600b467-4613-4711-beb8-9175f82fd072"
      },
      "execution_count": 4,
      "outputs": [
        {
          "output_type": "stream",
          "name": "stdout",
          "text": [
            "                                               suceso  probabilidad  conteo\n",
            "0                                 Pertenecer a África          0.16       5\n",
            "1                                   Pertenecer a Asia          0.12       4\n",
            "2                                 Pertenecer a Europa          0.41      13\n",
            "3                           Pertenecer a Norteamérica          0.12       4\n",
            "4                             Pertenecer a Sudamérica          0.19       6\n",
            "5                          Clasificar a segunda ronda          0.50      16\n",
            "6                           Ganar al menos un partido          0.72      23\n",
            "7    Pertenecer a África y clasificar a segunda ronda          0.06       2\n",
            "8    Pertenecer a Europa y clasificar a segunda ronda          0.19       6\n",
            "9      Pertenecer a Asia y clasificar a segunda ronda          0.00       0\n",
            "10  Pertenecer a Sudamérica y clasificar a segunda...          0.16       5\n",
            "11  Pertenecer a Norteamérica y clasificar a segun...          0.09       3\n",
            "12   Pertenecer a África o clasificar a segunda ronda          0.06      19\n",
            "13   Pertenecer a Europa o clasificar a segunda ronda          0.72      23\n",
            "14     Pertenecer a Asia o clasificar a segunda ronda          0.62      20\n",
            "15  Pertenecer a Sudamérica o clasificar a segunda...          0.53      17\n",
            "16  Pertenecer a Norteamérica o clasificar a segun...          0.53      17\n",
            "17  Pertenecer a África y haber ganado al menos un...          0.09       3\n",
            "18  Pertenecer a Europa y haber ganado al menos un...          0.34      11\n",
            "19  Pertenecer a Asia y haber ganado al menos un p...          0.00       0\n",
            "20  Pertenecer a Sudamérica y haber ganado al meno...          0.19       6\n",
            "21  Pertenecer a Norteamérica y haber ganado al me...          0.09       3\n",
            "22  Haber ganado al menos un partido y clasificar ...          0.50      16\n"
          ]
        }
      ]
    },
    {
      "cell_type": "markdown",
      "source": [
        "## 2. Calcular Probabilidades (SIN CONTEO)\n",
        "\n",
        "A partir de las probabilidades anteriores, y sin realizar conteos, calcular las\n",
        "siguientes probabilidades:\n",
        "\n",
        "  1. Pertenecer a Europa, si se sabe que clasificó\n",
        "  2. Pertenecer a Sudamérica, si se sabe que clasificó\n",
        "  3. Pertenecer a África, si se sabe que ganó al menos un partido\n",
        "  4. Haber ganado al menos un partido, si se sabe que clasificó\n",
        "  5. Haber ganado al menos un partido, si se sabe que pertenece a Norteamérica\n",
        "  6. NO haber clasificado, si se sabe que pertenece a África"
      ],
      "metadata": {
        "id": "_zn-1H14DzcV"
      }
    },
    {
      "cell_type": "markdown",
      "source": [
        "> Para calcular estas probabilidades se utilizará el Teorema de Bayes:\n",
        "> $$ P(A|B) = \\frac{P(A y B)}{P(B)} $$\n",
        "> Dónde A y B son sucesos"
      ],
      "metadata": {
        "id": "AlS80qcuEpZv"
      }
    },
    {
      "cell_type": "markdown",
      "source": [
        "### 2.1 Pertenecer a Europa, si se sabe que clasificó\n",
        "\n",
        "La probabilidad pedida es $P(A | B) = \\frac{P(AyB)}{P(B)}$ dónde:\n",
        "\n",
        "- $A$: Pertenece a Europa\n",
        "- $B$: Clasifico a segunda ronda\n",
        "- $A y B$: Pertecene a Europa y Clasificó a segunda ronda\n",
        "\n",
        "Entonces:\n"
      ],
      "metadata": {
        "id": "dyd1EfS8FwBp"
      }
    },
    {
      "cell_type": "code",
      "source": [
        "p_europa_si_clas_segunda_ronda =  p_europe_clas_segunda_ronda / p_clas_segunda_ronda\n",
        "\n",
        "print(f'Probabilidad de pertenecer a Europa, si se sabe que clasificó: {p_europa_si_clas_segunda_ronda:.2f}')"
      ],
      "metadata": {
        "colab": {
          "base_uri": "https://localhost:8080/"
        },
        "id": "kfaq7qYQEKFB",
        "outputId": "e67236be-c364-4055-ca33-19713c4c7bd7"
      },
      "execution_count": 5,
      "outputs": [
        {
          "output_type": "stream",
          "name": "stdout",
          "text": [
            "Probabilidad de pertenecer a Europa, si se sabe que clasificó: 0.38\n"
          ]
        }
      ]
    },
    {
      "cell_type": "markdown",
      "source": [
        "### 2.2 Pertenecer a Sudamérica, si se sabe que clasificó\n",
        "\n",
        "La probabilidad pedida es $P(A | B) = \\frac{P(AyB)}{P(B)}$ dónde:\n",
        "\n",
        "- $A$: Pertenece a Sudamérica\n",
        "- $B$: Clasifico a segunda ronda\n",
        "- $A y B$: Pertecene a Sudamérica y Clasificó a segunda ronda\n",
        "\n",
        "Entonces:"
      ],
      "metadata": {
        "id": "V8zxpXqFHZyg"
      }
    },
    {
      "cell_type": "code",
      "source": [
        "p_southamerica_si_clas_segunda_ronda =  p_southamerica_clas_segunda_ronda / p_clas_segunda_ronda\n",
        "\n",
        "print(f'Probabilidad de pertenecer a Sudamérica, si se sabe que clasificó: {p_southamerica_si_clas_segunda_ronda:.2f}')"
      ],
      "metadata": {
        "colab": {
          "base_uri": "https://localhost:8080/"
        },
        "id": "ZfFH0zJvHqkH",
        "outputId": "a31caef4-e532-462d-ad8b-2d4d3f9eec26"
      },
      "execution_count": 6,
      "outputs": [
        {
          "output_type": "stream",
          "name": "stdout",
          "text": [
            "Probabilidad de pertenecer a Sudamérica, si se sabe que clasificó: 0.31\n"
          ]
        }
      ]
    },
    {
      "cell_type": "markdown",
      "source": [
        "### 2.3 Pertenecer a África, si se sabe que ganó al menos un partido\n",
        "\n",
        "La probabilidad pedida es $P(A | B) = \\frac{P(AyB)}{P(B)}$ dónde:\n",
        "\n",
        "- $A$: Pertenece a África\n",
        "- $B$: Ganó al menos un partido\n",
        "- $A y B$: Pertecene a África y ganó al menos un partido\n",
        "\n",
        "Entonces:"
      ],
      "metadata": {
        "id": "c5dqilVQI_b-"
      }
    },
    {
      "cell_type": "code",
      "source": [
        "p_africa_si_al_menos_gano_1p =  p_africa_al_menos_1p / p_gana_al_menos_1p\n",
        "\n",
        "print(f'Probabilidad de pertenecer a África, si se sabe que ganó al menos un partido: {p_africa_si_al_menos_gano_1p:.2f}')"
      ],
      "metadata": {
        "colab": {
          "base_uri": "https://localhost:8080/"
        },
        "id": "jjCeIYZGJ5sb",
        "outputId": "145c0593-896f-4bc8-d03e-c7daac094f91"
      },
      "execution_count": 7,
      "outputs": [
        {
          "output_type": "stream",
          "name": "stdout",
          "text": [
            "Probabilidad de pertenecer a África, si se sabe que ganó al menos un partido: 0.13\n"
          ]
        }
      ]
    },
    {
      "cell_type": "markdown",
      "source": [
        "### 2.4 Haber ganado al menos un partido, si se sabe que clasificó\n",
        "\n",
        "La probabilidad pedida es $P(A | B) = \\frac{P(AyB)}{P(B)}$ dónde:\n",
        "\n",
        "- $A$: Haber ganado al menos un partido\n",
        "- $B$: Clásifico a segunda ronda\n",
        "- $A y B$: Haber ganado un partido y clasificar a segunda ronda\n",
        "\n",
        "Entonces:"
      ],
      "metadata": {
        "id": "N2v1o1OULPue"
      }
    },
    {
      "cell_type": "code",
      "source": [
        "p_al_menos_gano_1p_si_clas_segunda_ronda =  p_al_menos_1p_clas_segunda_ronda / p_clas_segunda_ronda\n",
        "\n",
        "print(f'Probabilidad de haber ganado al menos un partido, si se sabe que clasificó: {p_al_menos_gano_1p_si_clas_segunda_ronda:.2f}')"
      ],
      "metadata": {
        "colab": {
          "base_uri": "https://localhost:8080/"
        },
        "id": "pgpfc8ZVLkfg",
        "outputId": "ef2cdc33-b7a6-4152-9163-3537192c0f05"
      },
      "execution_count": 9,
      "outputs": [
        {
          "output_type": "stream",
          "name": "stdout",
          "text": [
            "Probabilidad de haber ganado al menos un partido, si se sabe que clasificó: 1.00\n"
          ]
        }
      ]
    },
    {
      "cell_type": "markdown",
      "source": [
        "### 2.5 Haber ganado al menos un partido, si se sabe que pertenece a Norteamérica\n",
        "\n",
        "La probabilidad pedida es $P(A | B) = \\frac{P(AyB)}{P(B)}$ dónde:\n",
        "\n",
        "- $A$: Haber ganado al menos un partido\n",
        "- $B$: Pertenece a Norteamérica\n",
        "- $A y B$: Haber ganado al menos un partido y pertenecer a Norteamérica\n",
        "\n",
        "Entonces:"
      ],
      "metadata": {
        "id": "W6dm0PEVMCOm"
      }
    },
    {
      "cell_type": "code",
      "source": [
        "p_al_menos_gano_1p_si_northamerica =  p_northamerica_al_menos_1p / p_northamerica\n",
        "\n",
        "print(f'Probabilidad de haber ganado al menos un partido, si se sabe que pertenece a Norteamérica: {p_al_menos_gano_1p_si_northamerica:.2f}')"
      ],
      "metadata": {
        "colab": {
          "base_uri": "https://localhost:8080/"
        },
        "id": "bUV0oLJ4MEr8",
        "outputId": "998925c6-8514-4e68-d0ab-7b14104fcc35"
      },
      "execution_count": 10,
      "outputs": [
        {
          "output_type": "stream",
          "name": "stdout",
          "text": [
            "Probabilidad de haber ganado al menos un partido, si se sabe que pertenece a Norteamérica: 0.75\n"
          ]
        }
      ]
    },
    {
      "cell_type": "markdown",
      "source": [
        "### 2.6 NO haber clasificado, si se sabe que pertenece a África\n",
        "\n",
        "La probabilidad pedida es $P(A' | B) = 1 - P(A | B) = 1 - \\frac{P(AyB)}{P(B)}$ dónde:\n",
        "\n",
        "- $A$: Haber clasificado\n",
        "- $A'$: No haber clasificado\n",
        "- $B$: Pertenece a África\n",
        "- $A y B$: Haber clasificado y pertenecer a África\n",
        "\n",
        "Entonces:"
      ],
      "metadata": {
        "id": "J6eYpEf6MFgd"
      }
    },
    {
      "cell_type": "code",
      "source": [
        "p_no_clas_segunda_ronda_si_africa =  1.0 - p_africa_clas_segunda_ronda / p_africa\n",
        "\n",
        "print(f'Probabilidad de NO haber clasificado, si se sabe que pertenece a África: {p_no_clas_segunda_ronda_si_africa:.2f}')"
      ],
      "metadata": {
        "colab": {
          "base_uri": "https://localhost:8080/"
        },
        "id": "jcx2PHCTMH22",
        "outputId": "96e39b50-0f51-4d6a-e0c3-263b93dd1235"
      },
      "execution_count": 12,
      "outputs": [
        {
          "output_type": "stream",
          "name": "stdout",
          "text": [
            "Probabilidad de NO haber clasificado, si se sabe que pertenece a África: 0.60\n"
          ]
        }
      ]
    }
  ]
}
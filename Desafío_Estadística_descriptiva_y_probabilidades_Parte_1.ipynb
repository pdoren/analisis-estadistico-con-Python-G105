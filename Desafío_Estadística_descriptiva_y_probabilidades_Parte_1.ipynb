{
  "nbformat": 4,
  "nbformat_minor": 0,
  "metadata": {
    "colab": {
      "provenance": [],
      "mount_file_id": "1VeyptEO2RWeiUIga1W0yXzBKXirEC-MJ",
      "authorship_tag": "ABX9TyPy3sv9SseSq0Nk1JWkdTlI",
      "include_colab_link": true
    },
    "kernelspec": {
      "name": "python3",
      "display_name": "Python 3"
    },
    "language_info": {
      "name": "python"
    }
  },
  "cells": [
    {
      "cell_type": "markdown",
      "metadata": {
        "id": "view-in-github",
        "colab_type": "text"
      },
      "source": [
        "<a href=\"https://colab.research.google.com/github/pdoren/analisis-estadistico-con-Python-G105/blob/main/Desaf%C3%ADo_Estad%C3%ADstica_descriptiva_y_probabilidades_Parte_1.ipynb\" target=\"_parent\"><img src=\"https://colab.research.google.com/assets/colab-badge.svg\" alt=\"Open In Colab\"/></a>"
      ]
    },
    {
      "cell_type": "markdown",
      "source": [
        "# Desafio - Estadística Descripctiva y Probabilidad (Parte 1)\n",
        "\n",
        "**Nombre:** Pablo Saavedra Doren <br />\n",
        "**Curso:** Análisis estadístico con Python (G105)"
      ],
      "metadata": {
        "id": "HINZy5-1vm60"
      }
    },
    {
      "cell_type": "code",
      "execution_count": 1,
      "metadata": {
        "colab": {
          "base_uri": "https://localhost:8080/"
        },
        "id": "EjoJ82oEq82W",
        "outputId": "1286b85b-343b-4acd-d073-0c91597a6a12"
      },
      "outputs": [
        {
          "output_type": "stream",
          "name": "stdout",
          "text": [
            "<class 'pandas.core.frame.DataFrame'>\n",
            "RangeIndex: 3755 entries, 0 to 3754\n",
            "Data columns (total 11 columns):\n",
            " #   Column              Non-Null Count  Dtype \n",
            "---  ------              --------------  ----- \n",
            " 0   work_year           3755 non-null   int64 \n",
            " 1   experience_level    3755 non-null   object\n",
            " 2   employment_type     3755 non-null   object\n",
            " 3   job_title           3755 non-null   object\n",
            " 4   salary              3755 non-null   int64 \n",
            " 5   salary_currency     3755 non-null   object\n",
            " 6   salary_in_usd       3755 non-null   int64 \n",
            " 7   employee_residence  3755 non-null   object\n",
            " 8   remote_ratio        3755 non-null   int64 \n",
            " 9   company_location    3755 non-null   object\n",
            " 10  company_size        3755 non-null   object\n",
            "dtypes: int64(4), object(7)\n",
            "memory usage: 322.8+ KB\n"
          ]
        }
      ],
      "source": [
        "import pandas as pd\n",
        "import seaborn as sns\n",
        "import matplotlib.pyplot as plt\n",
        "\n",
        "df = pd.read_csv('/content/drive/MyDrive/Colab Notebooks/ds_salaries.csv')\n",
        "\n",
        "df.info()"
      ]
    },
    {
      "cell_type": "markdown",
      "source": [
        "## 1. Estadísticas Generales\n",
        "\n",
        "Para las estadísticas generales del salario se se utiliza la columna **'salary_in_usd'** para unificar la moneda para que la comparación sea valida entre los distintos montos de distitos tipos de monedas."
      ],
      "metadata": {
        "id": "xcg5QDxHz4C-"
      }
    },
    {
      "cell_type": "code",
      "source": [
        "def print_estadisticas_salario(serie: pd.Series, title: str):\n",
        "  # Función para calcular y mostrar estadíticas\n",
        "  media = serie.mean()\n",
        "  mediana = serie.median()\n",
        "  desv_std = serie.std()\n",
        "  quintiles = serie.quantile([0.2, 0.4, 0.6, 0.8])\n",
        "  rango = round(serie.max() - serie.min(), 2)\n",
        "\n",
        "  print('-' * 80)\n",
        "  print(title)\n",
        "  print('-' * 80)\n",
        "  print(f\"Media: ${media:,.2f}\")\n",
        "  print(f\"Mediana: ${mediana:,.2f}\")\n",
        "  print(f\"Desviación estándar: ${desv_std:,.2f}\")\n",
        "  print(f\"Quintiles:\")\n",
        "  for index, quintil in enumerate(quintiles):\n",
        "        print(f\"   {(index + 1) * 0.2:.1f}: ${quintil:,.2f}\")\n",
        "  print(f\"Rango: ${rango:,.2f} [${serie.min():,.2f} - ${serie.max():,.2f}]\")\n",
        "  print('-' * 80)\n",
        "\n",
        "\n",
        "print_estadisticas_salario(serie=df['salary_in_usd'], title=\"Estadísticas Generales [USD]\")"
      ],
      "metadata": {
        "colab": {
          "base_uri": "https://localhost:8080/"
        },
        "id": "gsOU-S2LwP7B",
        "outputId": "ab8778aa-8236-4629-afb5-00987c2b9590"
      },
      "execution_count": 2,
      "outputs": [
        {
          "output_type": "stream",
          "name": "stdout",
          "text": [
            "--------------------------------------------------------------------------------\n",
            "Estadísticas Generales [USD]\n",
            "--------------------------------------------------------------------------------\n",
            "Media: $137,570.39\n",
            "Mediana: $135,000.00\n",
            "Desviación estándar: $63,055.63\n",
            "Quintiles:\n",
            "   0.2: $83,972.80\n",
            "   0.4: $120,000.00\n",
            "   0.6: $149,850.00\n",
            "   0.8: $185,900.00\n",
            "Rango: $444,868.00 [$5,132.00 - $450,000.00]\n",
            "--------------------------------------------------------------------------------\n"
          ]
        }
      ]
    },
    {
      "cell_type": "markdown",
      "source": [
        "Respecto a los datos estadísticos del salario general se puede concluir:\n",
        "\n",
        "\n",
        "1. El promedio (media) es ligeramente superior a la mediana esto indica que la distribución de sueldos es practicamente simétrica aunque un poco cargada hacia la derecha (existencia de sueldos muy altos).\n",
        "2. La desviación estándar es grande, por lo tanto, la distribición de los salarios es alta. Esto se confirma al revisar el rango.\n",
        "  "
      ],
      "metadata": {
        "id": "A4IToPOF267f"
      }
    },
    {
      "cell_type": "code",
      "source": [
        "def plot_distribucion(serie: pd.Series, title: str, xlabel: str, ylabel: str='Frecuencia'):\n",
        "  # Función para mostrar histograma y distribución de serie\n",
        "  ax = sns.histplot(data=serie, kde=True, color='gray')\n",
        "  ax.lines[0].set_color('red')\n",
        "  ax.axvline(serie.mean(), color='b', lw=2)\n",
        "  ax.axvline(serie.median(), color='b', ls='--', lw=2)\n",
        "  plt.title(title)\n",
        "  plt.xlabel(xlabel)\n",
        "  plt.ylabel(ylabel)\n",
        "\n",
        "plot_distribucion(serie=df['salary_in_usd'], title='Distribución de Salarios',\n",
        "                  xlabel='Salarios [USD]')\n",
        "\n",
        "plt.tight_layout()"
      ],
      "metadata": {
        "colab": {
          "base_uri": "https://localhost:8080/",
          "height": 487
        },
        "id": "PSgJ8W8G46E-",
        "outputId": "68173459-d8ab-4116-a321-7ec72ba88ec0"
      },
      "execution_count": 3,
      "outputs": [
        {
          "output_type": "display_data",
          "data": {
            "text/plain": [
              "<Figure size 640x480 with 1 Axes>"
            ],
            "image/png": "[encoded data removed]"
          },
          "metadata": {}
        }
      ]
    },
    {
      "cell_type": "markdown",
      "source": [
        "## 2. Estadísticas Agrupadas\n",
        "\n",
        "Para realizar el análisis agrupado se seleccionó la columna job_title, es decir, el puesto de trabajo desempeñado durante el año. Además, se escogieron como categorias los siguientes puestos debido a que son los que concentran la mayor cantidad de empleados:\n",
        "\n",
        "1. Data Analyst\n",
        "2. Data Engineer\n",
        "3. Data Scientist\n",
        "\n",
        "A continuación, se procede a calcular"
      ],
      "metadata": {
        "id": "5ZXlOvz6AE5_"
      }
    },
    {
      "cell_type": "code",
      "source": [
        "categorias = ['Data Analyst', 'Data Engineer', 'Data Scientist']\n",
        "columna = 'job_title'\n",
        "\n",
        "for categoria in categorias:\n",
        "  serie_grupo = df[df[columna] == categoria].groupby(columna).apply(pd.DataFrame, include_groups=False)['salary_in_usd']\n",
        "  print_estadisticas_salario(serie=serie_grupo, title=f'Estadística Salario {categoria}')\n"
      ],
      "metadata": {
        "colab": {
          "base_uri": "https://localhost:8080/"
        },
        "id": "VJeCl8E7ADxY",
        "outputId": "8772a53a-28de-4d68-ae01-617d34a755b6"
      },
      "execution_count": 4,
      "outputs": [
        {
          "output_type": "stream",
          "name": "stdout",
          "text": [
            "--------------------------------------------------------------------------------\n",
            "Estadística Salario Data Analyst\n",
            "--------------------------------------------------------------------------------\n",
            "Media: $108,716.23\n",
            "Mediana: $106,020.00\n",
            "Desviación estándar: $46,912.10\n",
            "Quintiles:\n",
            "   0.2: $70,037.20\n",
            "   0.4: $99,020.00\n",
            "   0.6: $115,934.00\n",
            "   0.8: $147,800.00\n",
            "Rango: $425,244.00 [$5,723.00 - $430,967.00]\n",
            "--------------------------------------------------------------------------------\n",
            "--------------------------------------------------------------------------------\n",
            "Estadística Salario Data Engineer\n",
            "--------------------------------------------------------------------------------\n",
            "Media: $142,785.73\n",
            "Mediana: $135,000.00\n",
            "Desviación estándar: $58,038.09\n",
            "Quintiles:\n",
            "   0.2: $93,590.00\n",
            "   0.4: $129,000.00\n",
            "   0.6: $150,000.00\n",
            "   0.8: $185,900.00\n",
            "Rango: $312,000.00 [$12,000.00 - $324,000.00]\n",
            "--------------------------------------------------------------------------------\n",
            "--------------------------------------------------------------------------------\n",
            "Estadística Salario Data Scientist\n",
            "--------------------------------------------------------------------------------\n",
            "Media: $140,869.77\n",
            "Mediana: $141,525.00\n",
            "Desviación estándar: $60,687.46\n",
            "Quintiles:\n",
            "   0.2: $88,224.80\n",
            "   0.4: $130,000.00\n",
            "   0.6: $155,000.00\n",
            "   0.8: $190,000.00\n",
            "Rango: $406,321.00 [$5,679.00 - $412,000.00]\n",
            "--------------------------------------------------------------------------------\n"
          ]
        }
      ]
    },
    {
      "cell_type": "markdown",
      "source": [
        "Comparando entre los 3 salarios agrupados se puede decir al respecto:\n",
        "\n",
        "1. Las medidas de tendencia central más representativa es el salario promedio de Data Analyst debido a que tiene la menor desviación estándar entre las 3 categorias.\n",
        "2. El promedio menos representativo es el salario de Data Scientist debido a que la desviación estándar es la mayor entre las 3 categorias.\n",
        "3. Al revisar el rango de salarios en las 3 categorias se observa que son bastante grandes. Esto se debe a que en los datos se incluye tipos de trabajo y niveles de experiencia diferentes que hacen incluir en la comparación Juniors y Seniors en el mismo grupo. Incluso si se filtra los datos (ver abajo) para evitar comparaciones inexactas, se sigue observando rangos de sueldos muy altos."
      ],
      "metadata": {
        "id": "CLdYkkDeZ5FF"
      }
    },
    {
      "cell_type": "code",
      "source": [
        "df_filtrado = df[\n",
        "                 (df['company_location'] ==  'US') &\n",
        "                 (df['employee_residence'] ==  'US') &\n",
        "                 (df['employment_type'] ==  'FT') &\n",
        "                 (df['work_year'] ==  2023) &\n",
        "                 (df['company_size'] ==  'M') &\n",
        "                 (df['experience_level'] ==  'SE')\n",
        "                 ]\n",
        "\n",
        "for categoria in categorias:\n",
        "  serie_grupo = df_filtrado[df_filtrado[columna] == categoria].groupby(columna).apply(pd.DataFrame, include_groups=False)['salary_in_usd']\n",
        "  print_estadisticas_salario(serie=serie_grupo, title=f'Estadística Salario {categoria}')"
      ],
      "metadata": {
        "colab": {
          "base_uri": "https://localhost:8080/"
        },
        "id": "4Dz9GUz3QTHU",
        "outputId": "f7bdb0ea-bbe3-4f1a-e924-32dea54d1d49"
      },
      "execution_count": 5,
      "outputs": [
        {
          "output_type": "stream",
          "name": "stdout",
          "text": [
            "--------------------------------------------------------------------------------\n",
            "Estadística Salario Data Analyst\n",
            "--------------------------------------------------------------------------------\n",
            "Media: $129,456.51\n",
            "Mediana: $121,952.00\n",
            "Desviación estándar: $43,827.97\n",
            "Quintiles:\n",
            "   0.2: $94,600.00\n",
            "   0.4: $110,600.00\n",
            "   0.6: $135,000.00\n",
            "   0.8: $165,000.00\n",
            "Rango: $333,038.00 [$51,962.00 - $385,000.00]\n",
            "--------------------------------------------------------------------------------\n",
            "--------------------------------------------------------------------------------\n",
            "Estadística Salario Data Engineer\n",
            "--------------------------------------------------------------------------------\n",
            "Media: $160,200.92\n",
            "Mediana: $150,000.00\n",
            "Desviación estándar: $52,898.95\n",
            "Quintiles:\n",
            "   0.2: $120,000.00\n",
            "   0.4: $139,500.00\n",
            "   0.6: $163,800.00\n",
            "   0.8: $205,140.00\n",
            "Rango: $247,000.00 [$63,000.00 - $310,000.00]\n",
            "--------------------------------------------------------------------------------\n",
            "--------------------------------------------------------------------------------\n",
            "Estadística Salario Data Scientist\n",
            "--------------------------------------------------------------------------------\n",
            "Media: $172,531.62\n",
            "Mediana: $169,200.00\n",
            "Desviación estándar: $51,052.10\n",
            "Quintiles:\n",
            "   0.2: $134,000.00\n",
            "   0.4: $155,000.00\n",
            "   0.6: $182,040.00\n",
            "   0.8: $210,000.00\n",
            "Rango: $300,000.00 [$70,000.00 - $370,000.00]\n",
            "--------------------------------------------------------------------------------\n"
          ]
        }
      ]
    },
    {
      "cell_type": "markdown",
      "source": [
        "## 3. Sueldos Altos\n",
        "\n",
        "Para identificar los puestos con mayores sueldos en Estados Unidos se realzará un filtro sobre la columna company_location y luego se agrupara por puesto, es decir, por la columna job_title. Además, se utilizara el promedio antes de obtener los 5 mayores sueldos para que el ranking sea más representativo por cada puesto (evitar el efecto de sueldos altos)."
      ],
      "metadata": {
        "id": "U_0yIeJ5d2n8"
      }
    },
    {
      "cell_type": "code",
      "source": [
        "df_us = df[df['company_location'] == 'US'].groupby('job_title')['salary_in_usd'].mean()\n",
        "\n",
        "top5 = df_us.nlargest(5)\n",
        "\n",
        "print('-' * 80)\n",
        "print('Ranking de mayores sueldos por puesto')\n",
        "print('-' * 80)\n",
        "for index, (puesto, sueldo) in enumerate(top5.items()):\n",
        "  print(f\"  {index + 1}º -> ${sueldo:,.2f} {puesto}\")\n",
        "print('-' * 80)"
      ],
      "metadata": {
        "colab": {
          "base_uri": "https://localhost:8080/"
        },
        "id": "g2Q8DOL2eNIy",
        "outputId": "9e85eb43-281a-474c-9956-065af7e0800a"
      },
      "execution_count": 6,
      "outputs": [
        {
          "output_type": "stream",
          "name": "stdout",
          "text": [
            "--------------------------------------------------------------------------------\n",
            "Ranking de mayores sueldos por puesto\n",
            "--------------------------------------------------------------------------------\n",
            "  1º -> $405,000.00 Data Analytics Lead\n",
            "  2º -> $375,000.00 Data Science Tech Lead\n",
            "  3º -> $294,375.00 Director of Data Science\n",
            "  4º -> $255,500.00 Principal Data Scientist\n",
            "  5º -> $250,000.00 Cloud Data Architect\n",
            "--------------------------------------------------------------------------------\n"
          ]
        }
      ]
    },
    {
      "cell_type": "markdown",
      "source": [
        "Los cargos con mejores sueldos son los lideres y ejecutivos relacionados con manejo de datos. El puesto con mayor sueldo es el Lider de Análisis de Datos, luego el Lider y Director de Ciencia de Datos. El mayor salto de diferencia de sueldo entre puesto, es entre el tercero y segundo, llegando a $80.625 dolares (más de un 27%)."
      ],
      "metadata": {
        "id": "h1w39oWImaLl"
      }
    }
  ]
}